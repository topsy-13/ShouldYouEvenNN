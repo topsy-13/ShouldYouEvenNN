{
 "cells": [
  {
   "cell_type": "code",
   "execution_count": 1,
   "id": "b56254b8",
   "metadata": {},
   "outputs": [],
   "source": [
    "import sys\n",
    "import os\n",
    "\n",
    "# Adjust the path to point to the 'src' directory relative to your notebook\n",
    "sys.path.append(os.path.abspath(\"../src\"))\n",
    "\n",
    "import generations\n",
    "import search_space\n",
    "import data_preprocessing as dp\n",
    "\n",
    "import baseline_models as bm\n",
    "from instance_sampling import create_dataloaders"
   ]
  },
  {
   "cell_type": "code",
   "execution_count": 2,
   "id": "e247a974",
   "metadata": {},
   "outputs": [
    {
     "name": "stdout",
     "output_type": "stream",
     "text": [
      "Trying with Dataset: credit-g\n",
      "Categorical features detected: ['checking_status', 'credit_history', 'purpose', 'savings_status', 'employment', 'personal_status', 'other_parties', 'property_magnitude', 'other_payment_plans', 'housing', 'job', 'own_telephone', 'foreign_worker']\n",
      "Class column is not numeric. Applying LabelEncoder.\n",
      "Data loaded successfully! Format: tensor\n",
      "Training data shape: torch.Size([640, 20])\n",
      "y_training data shape: torch.Size([640])\n"
     ]
    }
   ],
   "source": [
    "# DATA_ID = 41143\n",
    "DATA_ID = 31\n",
    "# DATA_ID = 54\n",
    "X_train, y_train, X_val, y_val, X_test, y_test = dp.get_preprocessed_data(\n",
    "        dataset_id=DATA_ID, scaling=True, random_seed=13, return_as='tensor', task_type='classification')"
   ]
  },
  {
   "cell_type": "code",
   "execution_count": 3,
   "id": "08198d3f",
   "metadata": {},
   "outputs": [
    {
     "name": "stdout",
     "output_type": "stream",
     "text": [
      "Baseline metric: 0.7469\n",
      "Time budget for baseline models: 179.68272352218628\n"
     ]
    },
    {
     "data": {
      "application/vnd.microsoft.datawrangler.viewer.v0+json": {
       "columns": [
        {
         "name": "index",
         "rawType": "int64",
         "type": "integer"
        },
        {
         "name": "pipeline",
         "rawType": "object",
         "type": "unknown"
        },
        {
         "name": "accuracy",
         "rawType": "float64",
         "type": "float"
        }
       ],
       "ref": "f85e9028-af18-4c82-b39f-0fa61ff33ee7",
       "rows": [
        [
         "1",
         "Pipeline(steps=[('learner', RandomForestClassifier())])",
         "0.7656"
        ],
        [
         "82",
         "Pipeline(steps=[('learner',\n                 RandomForestClassifier(criterion=np.str_('gini'),\n                                        max_features=14, min_samples_leaf=18,\n                                        min_samples_split=3, n_estimators=512,\n                                        warm_start=True))])",
         "0.7656"
        ],
        [
         "100",
         "Pipeline(steps=[('learner',\n                 RandomForestClassifier(bootstrap=False,\n                                        criterion=np.str_('gini'),\n                                        max_features=7, min_samples_leaf=13,\n                                        min_samples_split=20, n_estimators=512,\n                                        warm_start=True))])",
         "0.7625"
        ],
        [
         "101",
         "Pipeline(steps=[('learner',\n                 RandomForestClassifier(criterion=np.str_('gini'),\n                                        max_features=14, min_samples_leaf=10,\n                                        min_samples_split=5, n_estimators=512,\n                                        warm_start=True))])",
         "0.7609"
        ],
        [
         "46",
         "Pipeline(steps=[('learner',\n                 RandomForestClassifier(criterion=np.str_('entropy'),\n                                        max_features=9, min_samples_leaf=10,\n                                        min_samples_split=10, n_estimators=512,\n                                        warm_start=True))])",
         "0.7594"
        ],
        [
         "76",
         "Pipeline(steps=[('learner',\n                 RandomForestClassifier(bootstrap=False,\n                                        criterion=np.str_('gini'),\n                                        max_features=9, min_samples_leaf=4,\n                                        min_samples_split=13, n_estimators=512,\n                                        warm_start=True))])",
         "0.7578"
        ],
        [
         "22",
         "Pipeline(steps=[('data-pre-processor', VarianceThreshold()),\n                ('learner', RandomForestClassifier())])",
         "0.7578"
        ],
        [
         "118",
         "Pipeline(steps=[('learner',\n                 RandomForestClassifier(bootstrap=False,\n                                        criterion=np.str_('entropy'),\n                                        max_features=5, min_samples_leaf=2,\n                                        min_samples_split=4, n_estimators=512,\n                                        warm_start=True))])",
         "0.7562"
        ],
        [
         "85",
         "Pipeline(steps=[('learner',\n                 RandomForestClassifier(bootstrap=False,\n                                        criterion=np.str_('entropy'),\n                                        max_features=4, min_samples_leaf=8,\n                                        min_samples_split=5, n_estimators=512,\n                                        warm_start=True))])",
         "0.7562"
        ],
        [
         "44",
         "Pipeline(steps=[('learner',\n                 RandomForestClassifier(bootstrap=False,\n                                        criterion=np.str_('gini'),\n                                        max_features=4, min_samples_leaf=14,\n                                        min_samples_split=20, n_estimators=512,\n                                        warm_start=True))])",
         "0.7547"
        ],
        [
         "50",
         "Pipeline(steps=[('learner',\n                 RandomForestClassifier(criterion=np.str_('gini'),\n                                        max_features=8, min_samples_split=19,\n                                        n_estimators=512, warm_start=True))])",
         "0.7547"
        ],
        [
         "130",
         "Pipeline(steps=[('learner',\n                 RandomForestClassifier(criterion=np.str_('gini'),\n                                        max_features=5, min_samples_leaf=3,\n                                        min_samples_split=16, n_estimators=512,\n                                        warm_start=True))])",
         "0.7531"
        ],
        [
         "102",
         "Pipeline(steps=[('learner',\n                 RandomForestClassifier(criterion=np.str_('entropy'),\n                                        max_features=12, min_samples_leaf=2,\n                                        min_samples_split=17, n_estimators=512,\n                                        warm_start=True))])",
         "0.7531"
        ],
        [
         "128",
         "Pipeline(steps=[('learner',\n                 RandomForestClassifier(criterion=np.str_('entropy'),\n                                        max_features=3, min_samples_leaf=4,\n                                        min_samples_split=6, n_estimators=512,\n                                        warm_start=True))])",
         "0.7531"
        ],
        [
         "7",
         "Pipeline(steps=[('learner', LinearDiscriminantAnalysis())])",
         "0.75"
        ],
        [
         "126",
         "Pipeline(steps=[('learner',\n                 RandomForestClassifier(bootstrap=False,\n                                        criterion=np.str_('gini'),\n                                        max_features=6, min_samples_leaf=9,\n                                        min_samples_split=15, n_estimators=512,\n                                        warm_start=True))])",
         "0.75"
        ],
        [
         "69",
         "Pipeline(steps=[('learner',\n                 RandomForestClassifier(criterion=np.str_('entropy'),\n                                        max_features=6, min_samples_leaf=3,\n                                        min_samples_split=3, n_estimators=512,\n                                        warm_start=True))])",
         "0.75"
        ],
        [
         "107",
         "Pipeline(steps=[('learner',\n                 RandomForestClassifier(bootstrap=False,\n                                        criterion=np.str_('entropy'),\n                                        max_features=2, min_samples_leaf=3,\n                                        min_samples_split=14, n_estimators=512,\n                                        warm_start=True))])",
         "0.7484"
        ],
        [
         "86",
         "Pipeline(steps=[('learner',\n                 RandomForestClassifier(bootstrap=False,\n                                        criterion=np.str_('entropy'),\n                                        max_features=7, min_samples_leaf=10,\n                                        min_samples_split=6, n_estimators=512,\n                                        warm_start=True))])",
         "0.7484"
        ],
        [
         "131",
         "Pipeline(steps=[('learner',\n                 RandomForestClassifier(bootstrap=False,\n                                        criterion=np.str_('gini'),\n                                        max_features=10, min_samples_leaf=16,\n                                        min_samples_split=6, n_estimators=512,\n                                        warm_start=True))])",
         "0.7469"
        ]
       ],
       "shape": {
        "columns": 2,
        "rows": 20
       }
      },
      "text/html": [
       "<div>\n",
       "<style scoped>\n",
       "    .dataframe tbody tr th:only-of-type {\n",
       "        vertical-align: middle;\n",
       "    }\n",
       "\n",
       "    .dataframe tbody tr th {\n",
       "        vertical-align: top;\n",
       "    }\n",
       "\n",
       "    .dataframe thead th {\n",
       "        text-align: right;\n",
       "    }\n",
       "</style>\n",
       "<table border=\"1\" class=\"dataframe\">\n",
       "  <thead>\n",
       "    <tr style=\"text-align: right;\">\n",
       "      <th></th>\n",
       "      <th>pipeline</th>\n",
       "      <th>accuracy</th>\n",
       "    </tr>\n",
       "  </thead>\n",
       "  <tbody>\n",
       "    <tr>\n",
       "      <th>1</th>\n",
       "      <td>((DecisionTreeClassifier(max_features='sqrt', ...</td>\n",
       "      <td>0.7656</td>\n",
       "    </tr>\n",
       "    <tr>\n",
       "      <th>82</th>\n",
       "      <td>(RandomForestClassifier(criterion=np.str_('gin...</td>\n",
       "      <td>0.7656</td>\n",
       "    </tr>\n",
       "    <tr>\n",
       "      <th>100</th>\n",
       "      <td>(RandomForestClassifier(bootstrap=False, crite...</td>\n",
       "      <td>0.7625</td>\n",
       "    </tr>\n",
       "    <tr>\n",
       "      <th>101</th>\n",
       "      <td>(RandomForestClassifier(criterion=np.str_('gin...</td>\n",
       "      <td>0.7609</td>\n",
       "    </tr>\n",
       "    <tr>\n",
       "      <th>46</th>\n",
       "      <td>(RandomForestClassifier(criterion=np.str_('ent...</td>\n",
       "      <td>0.7594</td>\n",
       "    </tr>\n",
       "    <tr>\n",
       "      <th>76</th>\n",
       "      <td>(RandomForestClassifier(bootstrap=False, crite...</td>\n",
       "      <td>0.7578</td>\n",
       "    </tr>\n",
       "    <tr>\n",
       "      <th>22</th>\n",
       "      <td>(VarianceThreshold(), RandomForestClassifier())</td>\n",
       "      <td>0.7578</td>\n",
       "    </tr>\n",
       "    <tr>\n",
       "      <th>118</th>\n",
       "      <td>(RandomForestClassifier(bootstrap=False, crite...</td>\n",
       "      <td>0.7562</td>\n",
       "    </tr>\n",
       "    <tr>\n",
       "      <th>85</th>\n",
       "      <td>(RandomForestClassifier(bootstrap=False, crite...</td>\n",
       "      <td>0.7562</td>\n",
       "    </tr>\n",
       "    <tr>\n",
       "      <th>44</th>\n",
       "      <td>(RandomForestClassifier(bootstrap=False, crite...</td>\n",
       "      <td>0.7547</td>\n",
       "    </tr>\n",
       "    <tr>\n",
       "      <th>50</th>\n",
       "      <td>(RandomForestClassifier(criterion=np.str_('gin...</td>\n",
       "      <td>0.7547</td>\n",
       "    </tr>\n",
       "    <tr>\n",
       "      <th>130</th>\n",
       "      <td>(RandomForestClassifier(criterion=np.str_('gin...</td>\n",
       "      <td>0.7531</td>\n",
       "    </tr>\n",
       "    <tr>\n",
       "      <th>102</th>\n",
       "      <td>(RandomForestClassifier(criterion=np.str_('ent...</td>\n",
       "      <td>0.7531</td>\n",
       "    </tr>\n",
       "    <tr>\n",
       "      <th>128</th>\n",
       "      <td>(RandomForestClassifier(criterion=np.str_('ent...</td>\n",
       "      <td>0.7531</td>\n",
       "    </tr>\n",
       "    <tr>\n",
       "      <th>7</th>\n",
       "      <td>(LinearDiscriminantAnalysis())</td>\n",
       "      <td>0.7500</td>\n",
       "    </tr>\n",
       "    <tr>\n",
       "      <th>126</th>\n",
       "      <td>(RandomForestClassifier(bootstrap=False, crite...</td>\n",
       "      <td>0.7500</td>\n",
       "    </tr>\n",
       "    <tr>\n",
       "      <th>69</th>\n",
       "      <td>(RandomForestClassifier(criterion=np.str_('ent...</td>\n",
       "      <td>0.7500</td>\n",
       "    </tr>\n",
       "    <tr>\n",
       "      <th>107</th>\n",
       "      <td>(RandomForestClassifier(bootstrap=False, crite...</td>\n",
       "      <td>0.7484</td>\n",
       "    </tr>\n",
       "    <tr>\n",
       "      <th>86</th>\n",
       "      <td>(RandomForestClassifier(bootstrap=False, crite...</td>\n",
       "      <td>0.7484</td>\n",
       "    </tr>\n",
       "    <tr>\n",
       "      <th>131</th>\n",
       "      <td>(RandomForestClassifier(bootstrap=False, crite...</td>\n",
       "      <td>0.7469</td>\n",
       "    </tr>\n",
       "  </tbody>\n",
       "</table>\n",
       "</div>"
      ],
      "text/plain": [
       "                                              pipeline  accuracy\n",
       "1    ((DecisionTreeClassifier(max_features='sqrt', ...    0.7656\n",
       "82   (RandomForestClassifier(criterion=np.str_('gin...    0.7656\n",
       "100  (RandomForestClassifier(bootstrap=False, crite...    0.7625\n",
       "101  (RandomForestClassifier(criterion=np.str_('gin...    0.7609\n",
       "46   (RandomForestClassifier(criterion=np.str_('ent...    0.7594\n",
       "76   (RandomForestClassifier(bootstrap=False, crite...    0.7578\n",
       "22     (VarianceThreshold(), RandomForestClassifier())    0.7578\n",
       "118  (RandomForestClassifier(bootstrap=False, crite...    0.7562\n",
       "85   (RandomForestClassifier(bootstrap=False, crite...    0.7562\n",
       "44   (RandomForestClassifier(bootstrap=False, crite...    0.7547\n",
       "50   (RandomForestClassifier(criterion=np.str_('gin...    0.7547\n",
       "130  (RandomForestClassifier(criterion=np.str_('gin...    0.7531\n",
       "102  (RandomForestClassifier(criterion=np.str_('ent...    0.7531\n",
       "128  (RandomForestClassifier(criterion=np.str_('ent...    0.7531\n",
       "7                       (LinearDiscriminantAnalysis())    0.7500\n",
       "126  (RandomForestClassifier(bootstrap=False, crite...    0.7500\n",
       "69   (RandomForestClassifier(criterion=np.str_('ent...    0.7500\n",
       "107  (RandomForestClassifier(bootstrap=False, crite...    0.7484\n",
       "86   (RandomForestClassifier(bootstrap=False, crite...    0.7484\n",
       "131  (RandomForestClassifier(bootstrap=False, crite...    0.7469"
      ]
     },
     "metadata": {},
     "output_type": "display_data"
    }
   ],
   "source": [
    "baseline_metric, time_budget, scoreboard = bm.get_models_and_baseline_metric(X_train, y_train, n_models=20)\n",
    "print(\"Baseline metric:\", baseline_metric)\n",
    "print(\"Time budget for baseline models:\", time_budget)\n",
    "display(scoreboard)\n",
    "time_budget = time_budget * 3 # Since NN models require more time, the time budget gets tripled\n",
    "# baseline_metric = 0.5"
   ]
  },
  {
   "cell_type": "code",
   "execution_count": 4,
   "id": "a1296853",
   "metadata": {},
   "outputs": [],
   "source": [
    "input_size, output_size = dp.get_tensor_sizes(X_train, y_train)"
   ]
  },
  {
   "cell_type": "code",
   "execution_count": 5,
   "id": "f0c3f57f",
   "metadata": {},
   "outputs": [],
   "source": [
    "search_space = search_space.SearchSpace(input_size=input_size, output_size=output_size)"
   ]
  },
  {
   "cell_type": "code",
   "execution_count": 6,
   "id": "6ce6e3f0",
   "metadata": {},
   "outputs": [],
   "source": [
    "N_INDIVIDUALS = 400 # amount of architectures to be evaluated as a starting point\n",
    "N_EPOCHS = 200\n",
    "percentile_drop = 5 # drop the worst 5% of architectures after first epoch"
   ]
  },
  {
   "cell_type": "code",
   "execution_count": 7,
   "id": "19af8cc0",
   "metadata": {},
   "outputs": [],
   "source": [
    "# The generation is created given the search space and the number of individuals.\n",
    "generation = generations.Generation(search_space, N_INDIVIDUALS, starting_instances=1000)"
   ]
  },
  {
   "cell_type": "code",
   "execution_count": 8,
   "id": "355aedb0",
   "metadata": {},
   "outputs": [
    {
     "name": "stdout",
     "output_type": "stream",
     "text": [
      "Epoch 1/200 - Running EBE\n",
      "Epoch 2/200 - Running EBE\n",
      "Epoch 3/200 - Running EBE\n",
      "Epoch 4/200 - Running EBE\n",
      "Epoch 5/200 - Running EBE\n",
      "Epoch 6/200 - Running EBE\n",
      "Epoch 7/200 - Running EBE\n",
      "Epoch 8/200 - Running EBE\n",
      "Epoch 9/200 - Running EBE\n",
      "Only 6 models left, stopping EBE.\n"
     ]
    }
   ],
   "source": [
    "generation.run_ebe(epochs=N_EPOCHS,\n",
    "                    X_train=X_train,\n",
    "                    y_train=y_train,\n",
    "                    X_val=X_val,\n",
    "                    y_val=y_val, \n",
    "                    percentile_drop=percentile_drop,\n",
    "                    baseline_metric=baseline_metric, \n",
    "                    time_budget=time_budget,\n",
    "                    epoch_threshold=3\n",
    "                    )"
   ]
  },
  {
   "cell_type": "code",
   "execution_count": 9,
   "id": "c3e43ebe",
   "metadata": {},
   "outputs": [
    {
     "data": {
      "application/vnd.microsoft.datawrangler.viewer.v0+json": {
       "columns": [
        {
         "name": "index",
         "rawType": "int64",
         "type": "integer"
        },
        {
         "name": "hidden_layers",
         "rawType": "object",
         "type": "unknown"
        },
        {
         "name": "activation_fn",
         "rawType": "object",
         "type": "unknown"
        },
        {
         "name": "dropout_rate",
         "rawType": "float64",
         "type": "float"
        },
        {
         "name": "optimizer_type",
         "rawType": "object",
         "type": "unknown"
        },
        {
         "name": "learning_rate",
         "rawType": "float64",
         "type": "float"
        },
        {
         "name": "weight_decay",
         "rawType": "float64",
         "type": "float"
        },
        {
         "name": "momentum",
         "rawType": "object",
         "type": "unknown"
        },
        {
         "name": "batch_size",
         "rawType": "int64",
         "type": "integer"
        },
        {
         "name": "use_skip_connections",
         "rawType": "bool",
         "type": "boolean"
        },
        {
         "name": "initializer",
         "rawType": "object",
         "type": "string"
        },
        {
         "name": "lr_scheduler",
         "rawType": "object",
         "type": "string"
        },
        {
         "name": "scheduler_params",
         "rawType": "object",
         "type": "unknown"
        },
        {
         "name": "train_loss",
         "rawType": "object",
         "type": "unknown"
        },
        {
         "name": "train_acc",
         "rawType": "object",
         "type": "unknown"
        },
        {
         "name": "val_loss",
         "rawType": "object",
         "type": "unknown"
        },
        {
         "name": "val_acc",
         "rawType": "object",
         "type": "unknown"
        },
        {
         "name": "efforts",
         "rawType": "object",
         "type": "unknown"
        },
        {
         "name": "n_instances",
         "rawType": "object",
         "type": "unknown"
        },
        {
         "name": "fcst_accuracy",
         "rawType": "float64",
         "type": "float"
        },
        {
         "name": "higher_than_baseline",
         "rawType": "bool",
         "type": "boolean"
        },
        {
         "name": "final_val_acc",
         "rawType": "float64",
         "type": "float"
        },
        {
         "name": "final_val_loss",
         "rawType": "float64",
         "type": "float"
        }
       ],
       "ref": "b2a5cb39-057b-40df-b004-208dc5ef7d70",
       "rows": [
        [
         "0",
         "[339, 16, 93, 42, 341, 188]",
         "<class 'torch.nn.modules.activation.ReLU'>",
         "0.0",
         "<class 'torch.optim.rmsprop.RMSprop'>",
         "0.0015117993566461333",
         "0.0001",
         null,
         "64",
         "False",
         "kaiming_uniform",
         "step",
         "{'step_size': 10, 'gamma': 0.5}",
         "[1.4407153308391571, 0.5339824944734574, 0.4769153565168381, 0.4476653873920441, 0.43757341206073763, 0.3569206267595291, 0.33295672535896303, 0.29971572309732436, 0.31413366049528124]",
         "[0.653125, 0.728125, 0.7703125, 0.7890625, 0.8015625, 0.81875, 0.8484375, 0.875, 0.8546875]",
         "[0.6260004758834838, 0.5706395745277405, 0.5108648657798767, 0.5157763242721558, 0.5581889271736145, 0.6571242809295654, 0.5296747207641601, 0.7215160131454468, 0.5941827058792114]",
         "[0.60625, 0.71875, 0.7375, 0.73125, 0.7125, 0.75, 0.775, 0.76875, 0.7625]",
         "[1.0, 2.0, 3.0, 4.0, 5.0, 6.0, 7.0, 8.0, 9.0]",
         "[640, 640, 640, 640, 640, 640, 640, 640, 640]",
         "0.7880643557092375",
         "True",
         "0.7625",
         "0.5941827058792114"
        ],
        [
         "1",
         "[53, 155, 388, 450, 339, 131, 409]",
         "<class 'torch.nn.modules.activation.ReLU'>",
         "0.1",
         "<class 'torch.optim.rmsprop.RMSprop'>",
         "0.00024631861617316033",
         "0.0",
         null,
         "32",
         "True",
         "xavier_normal",
         "cosine",
         "{'T_max': 100}",
         "[0.6076622039079667, 0.5449529156088829, 0.5203683212399483, 0.48476216197013855, 0.49442821443080903, 0.4623008742928505, 0.46395592838525773, 0.4472965598106384, 0.4290790125727654]",
         "[0.6984375, 0.7203125, 0.7390625, 0.7765625, 0.7515625, 0.7671875, 0.765625, 0.7828125, 0.76875]",
         "[0.647019898891449, 0.6062820792198181, 0.6114715695381164, 0.6077028632164001, 0.5919367790222168, 0.5505039870738984, 0.5551756799221039, 0.5669698238372802, 0.6158395230770111]",
         "[0.6, 0.675, 0.66875, 0.7, 0.7, 0.75625, 0.775, 0.73125, 0.73125]",
         "[1.0, 2.0, 3.0, 4.0, 5.0, 6.0, 7.0, 8.0, 9.0]",
         "[640, 640, 640, 640, 640, 640, 640, 640, 640]",
         "0.7644668255680849",
         "True",
         "0.73125",
         "0.6158395230770111"
        ],
        [
         "2",
         "[330, 234, 58, 287, 369, 285, 144, 199, 303, 204]",
         "<class 'torch.nn.modules.activation.ELU'>",
         "0.0",
         "<class 'torch.optim.adamw.AdamW'>",
         "0.00011943765151881847",
         "0.001",
         null,
         "512",
         "False",
         "kaiming_uniform",
         "exponential",
         "{'gamma': 0.99}",
         "[1.2181602597236634, 0.6562166333198547, 0.6208591938018799, 0.6005489110946656, 0.5261931419372559, 0.46079092621803286, 0.43942270874977113, 0.4339878559112549, 0.41827160120010376]",
         "[0.365625, 0.6421875, 0.7203125, 0.728125, 0.75625, 0.78125, 0.7828125, 0.8, 0.8125]",
         "[0.7881067991256714, 0.8565453290939331, 0.9008496403694153, 0.821723461151123, 0.7147277593612671, 0.653307318687439, 0.6322436928749084, 0.6229289770126343, 0.6153119206428528]",
         "[0.51875, 0.60625, 0.60625, 0.61875, 0.66875, 0.7, 0.7375, 0.7375, 0.74375]",
         "[1.0, 2.0, 3.0, 4.0, 5.0, 6.0, 7.0, 8.0, 9.0]",
         "[640, 640, 640, 640, 640, 640, 640, 640, 640]",
         "0.7627752600392212",
         "True",
         "0.74375",
         "0.6153119206428528"
        ],
        [
         "3",
         "[298, 383, 126, 122, 467, 41, 494, 231]",
         "<class 'torch.nn.modules.activation.ReLU'>",
         "0.1",
         "<class 'torch.optim.rmsprop.RMSprop'>",
         "0.00040920945877331904",
         "1e-05",
         null,
         "32",
         "True",
         "kaiming_uniform",
         "cosine",
         "{'T_max': 100}",
         "[0.7245975136756897, 0.5458137661218643, 0.5222145602107048, 0.495570082962513, 0.47466489374637605, 0.45077907145023344, 0.45048551708459855, 0.42722941786050794, 0.4066569522023201]",
         "[0.70625, 0.728125, 0.70625, 0.7296875, 0.7453125, 0.75625, 0.765625, 0.7921875, 0.7875]",
         "[0.6471633017063141, 0.6758693039417267, 0.569568932056427, 0.5795531451702118, 0.6041653335094452, 0.5605531573295593, 0.598991584777832, 0.6004655718803406, 0.6439318954944611]",
         "[0.6, 0.63125, 0.7, 0.70625, 0.73125, 0.6875, 0.75625, 0.7375, 0.725]",
         "[1.0, 2.0, 3.0, 4.0, 5.0, 6.0, 7.0, 8.0, 9.0]",
         "[640, 640, 640, 640, 640, 640, 640, 640, 640]",
         "0.7563777717193099",
         "True",
         "0.725",
         "0.6439318954944611"
        ],
        [
         "4",
         "[497, 435, 41, 99, 455, 337]",
         "<class 'torch.nn.modules.activation.LeakyReLU'>",
         "0.1",
         "<class 'torch.optim.rmsprop.RMSprop'>",
         "0.00026625779166351577",
         "0.0001",
         null,
         "32",
         "False",
         "kaiming_uniform",
         "step",
         "{'step_size': 5, 'gamma': 0.5}",
         "[0.7006822526454926, 0.5356596872210503, 0.4850259095430374, 0.4607284486293793, 0.43555880934000013, 0.42326642423868177, 0.3998751111328602, 0.36493181735277175, 0.35309249311685564]",
         "[0.6953125, 0.740625, 0.7546875, 0.7796875, 0.7625, 0.7875, 0.7921875, 0.8203125, 0.8265625]",
         "[0.6382931113243103, 0.582068657875061, 0.592083317041397, 0.6096039831638336, 0.6697044670581818, 0.5732173323631287, 0.5612710773944855, 0.6453940272331238, 0.632633912563324]",
         "[0.625, 0.63125, 0.675, 0.66875, 0.66875, 0.70625, 0.7375, 0.6875, 0.71875]",
         "[1.0, 2.0, 3.0, 4.0, 5.0, 6.0, 7.0, 8.0, 9.0]",
         "[640, 640, 640, 640, 640, 640, 640, 640, 640]",
         "0.7167934073879046",
         "False",
         "0.71875",
         "0.632633912563324"
        ],
        [
         "5",
         "[86, 62]",
         "<class 'torch.nn.modules.activation.ReLU'>",
         "0.0",
         "<class 'torch.optim.rmsprop.RMSprop'>",
         "0.006535173157854564",
         "1e-05",
         null,
         "64",
         "False",
         "xavier_normal",
         "none",
         "{}",
         "[0.6992147117853165, 0.5010377943515778, 0.42640078663825987, 0.4007599353790283, 0.3525620102882385, 0.3178766071796417, 0.26747377067804334, 0.24774522483348846, 0.2154252126812935]",
         "[0.70625, 0.7375, 0.7890625, 0.8125, 0.84375, 0.85625, 0.8953125, 0.89375, 0.909375]",
         "[0.5535701632499694, 0.5995912551879883, 0.6956142544746399, 0.5732549369335175, 0.6973915934562683, 0.6676846265792846, 0.7214661002159118, 0.7310242176055908, 0.7459436535835267]",
         "[0.725, 0.6875, 0.6625, 0.7375, 0.69375, 0.69375, 0.6875, 0.7125, 0.725]",
         "[1.0, 2.0, 3.0, 4.0, 5.0, 6.0, 7.0, 8.0, 9.0]",
         "[640, 640, 640, 640, 640, 640, 640, 640, 640]",
         "0.7049444541976666",
         "False",
         "0.725",
         "0.7459436535835267"
        ]
       ],
       "shape": {
        "columns": 22,
        "rows": 6
       }
      },
      "text/html": [
       "<div>\n",
       "<style scoped>\n",
       "    .dataframe tbody tr th:only-of-type {\n",
       "        vertical-align: middle;\n",
       "    }\n",
       "\n",
       "    .dataframe tbody tr th {\n",
       "        vertical-align: top;\n",
       "    }\n",
       "\n",
       "    .dataframe thead th {\n",
       "        text-align: right;\n",
       "    }\n",
       "</style>\n",
       "<table border=\"1\" class=\"dataframe\">\n",
       "  <thead>\n",
       "    <tr style=\"text-align: right;\">\n",
       "      <th></th>\n",
       "      <th>hidden_layers</th>\n",
       "      <th>activation_fn</th>\n",
       "      <th>dropout_rate</th>\n",
       "      <th>optimizer_type</th>\n",
       "      <th>learning_rate</th>\n",
       "      <th>weight_decay</th>\n",
       "      <th>momentum</th>\n",
       "      <th>batch_size</th>\n",
       "      <th>use_skip_connections</th>\n",
       "      <th>initializer</th>\n",
       "      <th>...</th>\n",
       "      <th>train_loss</th>\n",
       "      <th>train_acc</th>\n",
       "      <th>val_loss</th>\n",
       "      <th>val_acc</th>\n",
       "      <th>efforts</th>\n",
       "      <th>n_instances</th>\n",
       "      <th>fcst_accuracy</th>\n",
       "      <th>higher_than_baseline</th>\n",
       "      <th>final_val_acc</th>\n",
       "      <th>final_val_loss</th>\n",
       "    </tr>\n",
       "  </thead>\n",
       "  <tbody>\n",
       "    <tr>\n",
       "      <th>0</th>\n",
       "      <td>[339, 16, 93, 42, 341, 188]</td>\n",
       "      <td>&lt;class 'torch.nn.modules.activation.ReLU'&gt;</td>\n",
       "      <td>0.0</td>\n",
       "      <td>&lt;class 'torch.optim.rmsprop.RMSprop'&gt;</td>\n",
       "      <td>0.001512</td>\n",
       "      <td>0.00010</td>\n",
       "      <td>None</td>\n",
       "      <td>64</td>\n",
       "      <td>False</td>\n",
       "      <td>kaiming_uniform</td>\n",
       "      <td>...</td>\n",
       "      <td>[1.4407153308391571, 0.5339824944734574, 0.476...</td>\n",
       "      <td>[0.653125, 0.728125, 0.7703125, 0.7890625, 0.8...</td>\n",
       "      <td>[0.6260004758834838, 0.5706395745277405, 0.510...</td>\n",
       "      <td>[0.60625, 0.71875, 0.7375, 0.73125, 0.7125, 0....</td>\n",
       "      <td>[1.0, 2.0, 3.0, 4.0, 5.0, 6.0, 7.0, 8.0, 9.0]</td>\n",
       "      <td>[640, 640, 640, 640, 640, 640, 640, 640, 640]</td>\n",
       "      <td>0.788064</td>\n",
       "      <td>True</td>\n",
       "      <td>0.76250</td>\n",
       "      <td>0.594183</td>\n",
       "    </tr>\n",
       "    <tr>\n",
       "      <th>1</th>\n",
       "      <td>[53, 155, 388, 450, 339, 131, 409]</td>\n",
       "      <td>&lt;class 'torch.nn.modules.activation.ReLU'&gt;</td>\n",
       "      <td>0.1</td>\n",
       "      <td>&lt;class 'torch.optim.rmsprop.RMSprop'&gt;</td>\n",
       "      <td>0.000246</td>\n",
       "      <td>0.00000</td>\n",
       "      <td>None</td>\n",
       "      <td>32</td>\n",
       "      <td>True</td>\n",
       "      <td>xavier_normal</td>\n",
       "      <td>...</td>\n",
       "      <td>[0.6076622039079667, 0.5449529156088829, 0.520...</td>\n",
       "      <td>[0.6984375, 0.7203125, 0.7390625, 0.7765625, 0...</td>\n",
       "      <td>[0.647019898891449, 0.6062820792198181, 0.6114...</td>\n",
       "      <td>[0.6, 0.675, 0.66875, 0.7, 0.7, 0.75625, 0.775...</td>\n",
       "      <td>[1.0, 2.0, 3.0, 4.0, 5.0, 6.0, 7.0, 8.0, 9.0]</td>\n",
       "      <td>[640, 640, 640, 640, 640, 640, 640, 640, 640]</td>\n",
       "      <td>0.764467</td>\n",
       "      <td>True</td>\n",
       "      <td>0.73125</td>\n",
       "      <td>0.615840</td>\n",
       "    </tr>\n",
       "    <tr>\n",
       "      <th>2</th>\n",
       "      <td>[330, 234, 58, 287, 369, 285, 144, 199, 303, 204]</td>\n",
       "      <td>&lt;class 'torch.nn.modules.activation.ELU'&gt;</td>\n",
       "      <td>0.0</td>\n",
       "      <td>&lt;class 'torch.optim.adamw.AdamW'&gt;</td>\n",
       "      <td>0.000119</td>\n",
       "      <td>0.00100</td>\n",
       "      <td>None</td>\n",
       "      <td>512</td>\n",
       "      <td>False</td>\n",
       "      <td>kaiming_uniform</td>\n",
       "      <td>...</td>\n",
       "      <td>[1.2181602597236634, 0.6562166333198547, 0.620...</td>\n",
       "      <td>[0.365625, 0.6421875, 0.7203125, 0.728125, 0.7...</td>\n",
       "      <td>[0.7881067991256714, 0.8565453290939331, 0.900...</td>\n",
       "      <td>[0.51875, 0.60625, 0.60625, 0.61875, 0.66875, ...</td>\n",
       "      <td>[1.0, 2.0, 3.0, 4.0, 5.0, 6.0, 7.0, 8.0, 9.0]</td>\n",
       "      <td>[640, 640, 640, 640, 640, 640, 640, 640, 640]</td>\n",
       "      <td>0.762775</td>\n",
       "      <td>True</td>\n",
       "      <td>0.74375</td>\n",
       "      <td>0.615312</td>\n",
       "    </tr>\n",
       "    <tr>\n",
       "      <th>3</th>\n",
       "      <td>[298, 383, 126, 122, 467, 41, 494, 231]</td>\n",
       "      <td>&lt;class 'torch.nn.modules.activation.ReLU'&gt;</td>\n",
       "      <td>0.1</td>\n",
       "      <td>&lt;class 'torch.optim.rmsprop.RMSprop'&gt;</td>\n",
       "      <td>0.000409</td>\n",
       "      <td>0.00001</td>\n",
       "      <td>None</td>\n",
       "      <td>32</td>\n",
       "      <td>True</td>\n",
       "      <td>kaiming_uniform</td>\n",
       "      <td>...</td>\n",
       "      <td>[0.7245975136756897, 0.5458137661218643, 0.522...</td>\n",
       "      <td>[0.70625, 0.728125, 0.70625, 0.7296875, 0.7453...</td>\n",
       "      <td>[0.6471633017063141, 0.6758693039417267, 0.569...</td>\n",
       "      <td>[0.6, 0.63125, 0.7, 0.70625, 0.73125, 0.6875, ...</td>\n",
       "      <td>[1.0, 2.0, 3.0, 4.0, 5.0, 6.0, 7.0, 8.0, 9.0]</td>\n",
       "      <td>[640, 640, 640, 640, 640, 640, 640, 640, 640]</td>\n",
       "      <td>0.756378</td>\n",
       "      <td>True</td>\n",
       "      <td>0.72500</td>\n",
       "      <td>0.643932</td>\n",
       "    </tr>\n",
       "    <tr>\n",
       "      <th>4</th>\n",
       "      <td>[497, 435, 41, 99, 455, 337]</td>\n",
       "      <td>&lt;class 'torch.nn.modules.activation.LeakyReLU'&gt;</td>\n",
       "      <td>0.1</td>\n",
       "      <td>&lt;class 'torch.optim.rmsprop.RMSprop'&gt;</td>\n",
       "      <td>0.000266</td>\n",
       "      <td>0.00010</td>\n",
       "      <td>None</td>\n",
       "      <td>32</td>\n",
       "      <td>False</td>\n",
       "      <td>kaiming_uniform</td>\n",
       "      <td>...</td>\n",
       "      <td>[0.7006822526454926, 0.5356596872210503, 0.485...</td>\n",
       "      <td>[0.6953125, 0.740625, 0.7546875, 0.7796875, 0....</td>\n",
       "      <td>[0.6382931113243103, 0.582068657875061, 0.5920...</td>\n",
       "      <td>[0.625, 0.63125, 0.675, 0.66875, 0.66875, 0.70...</td>\n",
       "      <td>[1.0, 2.0, 3.0, 4.0, 5.0, 6.0, 7.0, 8.0, 9.0]</td>\n",
       "      <td>[640, 640, 640, 640, 640, 640, 640, 640, 640]</td>\n",
       "      <td>0.716793</td>\n",
       "      <td>False</td>\n",
       "      <td>0.71875</td>\n",
       "      <td>0.632634</td>\n",
       "    </tr>\n",
       "    <tr>\n",
       "      <th>5</th>\n",
       "      <td>[86, 62]</td>\n",
       "      <td>&lt;class 'torch.nn.modules.activation.ReLU'&gt;</td>\n",
       "      <td>0.0</td>\n",
       "      <td>&lt;class 'torch.optim.rmsprop.RMSprop'&gt;</td>\n",
       "      <td>0.006535</td>\n",
       "      <td>0.00001</td>\n",
       "      <td>None</td>\n",
       "      <td>64</td>\n",
       "      <td>False</td>\n",
       "      <td>xavier_normal</td>\n",
       "      <td>...</td>\n",
       "      <td>[0.6992147117853165, 0.5010377943515778, 0.426...</td>\n",
       "      <td>[0.70625, 0.7375, 0.7890625, 0.8125, 0.84375, ...</td>\n",
       "      <td>[0.5535701632499694, 0.5995912551879883, 0.695...</td>\n",
       "      <td>[0.725, 0.6875, 0.6625, 0.7375, 0.69375, 0.693...</td>\n",
       "      <td>[1.0, 2.0, 3.0, 4.0, 5.0, 6.0, 7.0, 8.0, 9.0]</td>\n",
       "      <td>[640, 640, 640, 640, 640, 640, 640, 640, 640]</td>\n",
       "      <td>0.704944</td>\n",
       "      <td>False</td>\n",
       "      <td>0.72500</td>\n",
       "      <td>0.745944</td>\n",
       "    </tr>\n",
       "  </tbody>\n",
       "</table>\n",
       "<p>6 rows × 22 columns</p>\n",
       "</div>"
      ],
      "text/plain": [
       "                                       hidden_layers  \\\n",
       "0                        [339, 16, 93, 42, 341, 188]   \n",
       "1                 [53, 155, 388, 450, 339, 131, 409]   \n",
       "2  [330, 234, 58, 287, 369, 285, 144, 199, 303, 204]   \n",
       "3            [298, 383, 126, 122, 467, 41, 494, 231]   \n",
       "4                       [497, 435, 41, 99, 455, 337]   \n",
       "5                                           [86, 62]   \n",
       "\n",
       "                                     activation_fn  dropout_rate  \\\n",
       "0       <class 'torch.nn.modules.activation.ReLU'>           0.0   \n",
       "1       <class 'torch.nn.modules.activation.ReLU'>           0.1   \n",
       "2        <class 'torch.nn.modules.activation.ELU'>           0.0   \n",
       "3       <class 'torch.nn.modules.activation.ReLU'>           0.1   \n",
       "4  <class 'torch.nn.modules.activation.LeakyReLU'>           0.1   \n",
       "5       <class 'torch.nn.modules.activation.ReLU'>           0.0   \n",
       "\n",
       "                          optimizer_type  learning_rate  weight_decay  \\\n",
       "0  <class 'torch.optim.rmsprop.RMSprop'>       0.001512       0.00010   \n",
       "1  <class 'torch.optim.rmsprop.RMSprop'>       0.000246       0.00000   \n",
       "2      <class 'torch.optim.adamw.AdamW'>       0.000119       0.00100   \n",
       "3  <class 'torch.optim.rmsprop.RMSprop'>       0.000409       0.00001   \n",
       "4  <class 'torch.optim.rmsprop.RMSprop'>       0.000266       0.00010   \n",
       "5  <class 'torch.optim.rmsprop.RMSprop'>       0.006535       0.00001   \n",
       "\n",
       "  momentum  batch_size  use_skip_connections      initializer  ...  \\\n",
       "0     None          64                 False  kaiming_uniform  ...   \n",
       "1     None          32                  True    xavier_normal  ...   \n",
       "2     None         512                 False  kaiming_uniform  ...   \n",
       "3     None          32                  True  kaiming_uniform  ...   \n",
       "4     None          32                 False  kaiming_uniform  ...   \n",
       "5     None          64                 False    xavier_normal  ...   \n",
       "\n",
       "                                          train_loss  \\\n",
       "0  [1.4407153308391571, 0.5339824944734574, 0.476...   \n",
       "1  [0.6076622039079667, 0.5449529156088829, 0.520...   \n",
       "2  [1.2181602597236634, 0.6562166333198547, 0.620...   \n",
       "3  [0.7245975136756897, 0.5458137661218643, 0.522...   \n",
       "4  [0.7006822526454926, 0.5356596872210503, 0.485...   \n",
       "5  [0.6992147117853165, 0.5010377943515778, 0.426...   \n",
       "\n",
       "                                           train_acc  \\\n",
       "0  [0.653125, 0.728125, 0.7703125, 0.7890625, 0.8...   \n",
       "1  [0.6984375, 0.7203125, 0.7390625, 0.7765625, 0...   \n",
       "2  [0.365625, 0.6421875, 0.7203125, 0.728125, 0.7...   \n",
       "3  [0.70625, 0.728125, 0.70625, 0.7296875, 0.7453...   \n",
       "4  [0.6953125, 0.740625, 0.7546875, 0.7796875, 0....   \n",
       "5  [0.70625, 0.7375, 0.7890625, 0.8125, 0.84375, ...   \n",
       "\n",
       "                                            val_loss  \\\n",
       "0  [0.6260004758834838, 0.5706395745277405, 0.510...   \n",
       "1  [0.647019898891449, 0.6062820792198181, 0.6114...   \n",
       "2  [0.7881067991256714, 0.8565453290939331, 0.900...   \n",
       "3  [0.6471633017063141, 0.6758693039417267, 0.569...   \n",
       "4  [0.6382931113243103, 0.582068657875061, 0.5920...   \n",
       "5  [0.5535701632499694, 0.5995912551879883, 0.695...   \n",
       "\n",
       "                                             val_acc  \\\n",
       "0  [0.60625, 0.71875, 0.7375, 0.73125, 0.7125, 0....   \n",
       "1  [0.6, 0.675, 0.66875, 0.7, 0.7, 0.75625, 0.775...   \n",
       "2  [0.51875, 0.60625, 0.60625, 0.61875, 0.66875, ...   \n",
       "3  [0.6, 0.63125, 0.7, 0.70625, 0.73125, 0.6875, ...   \n",
       "4  [0.625, 0.63125, 0.675, 0.66875, 0.66875, 0.70...   \n",
       "5  [0.725, 0.6875, 0.6625, 0.7375, 0.69375, 0.693...   \n",
       "\n",
       "                                         efforts  \\\n",
       "0  [1.0, 2.0, 3.0, 4.0, 5.0, 6.0, 7.0, 8.0, 9.0]   \n",
       "1  [1.0, 2.0, 3.0, 4.0, 5.0, 6.0, 7.0, 8.0, 9.0]   \n",
       "2  [1.0, 2.0, 3.0, 4.0, 5.0, 6.0, 7.0, 8.0, 9.0]   \n",
       "3  [1.0, 2.0, 3.0, 4.0, 5.0, 6.0, 7.0, 8.0, 9.0]   \n",
       "4  [1.0, 2.0, 3.0, 4.0, 5.0, 6.0, 7.0, 8.0, 9.0]   \n",
       "5  [1.0, 2.0, 3.0, 4.0, 5.0, 6.0, 7.0, 8.0, 9.0]   \n",
       "\n",
       "                                     n_instances fcst_accuracy  \\\n",
       "0  [640, 640, 640, 640, 640, 640, 640, 640, 640]      0.788064   \n",
       "1  [640, 640, 640, 640, 640, 640, 640, 640, 640]      0.764467   \n",
       "2  [640, 640, 640, 640, 640, 640, 640, 640, 640]      0.762775   \n",
       "3  [640, 640, 640, 640, 640, 640, 640, 640, 640]      0.756378   \n",
       "4  [640, 640, 640, 640, 640, 640, 640, 640, 640]      0.716793   \n",
       "5  [640, 640, 640, 640, 640, 640, 640, 640, 640]      0.704944   \n",
       "\n",
       "  higher_than_baseline  final_val_acc  final_val_loss  \n",
       "0                 True        0.76250        0.594183  \n",
       "1                 True        0.73125        0.615840  \n",
       "2                 True        0.74375        0.615312  \n",
       "3                 True        0.72500        0.643932  \n",
       "4                False        0.71875        0.632634  \n",
       "5                False        0.72500        0.745944  \n",
       "\n",
       "[6 rows x 22 columns]"
      ]
     },
     "metadata": {},
     "output_type": "display_data"
    }
   ],
   "source": [
    "results_df = generation.return_df()\n",
    "display(results_df)"
   ]
  },
  {
   "cell_type": "code",
   "execution_count": 10,
   "id": "14233ad6",
   "metadata": {},
   "outputs": [],
   "source": [
    "# import ast\n",
    "# results_df[\"val_acc\"] = results_df[\"val_acc\"].apply(ast.literal_eval)\n",
    "# results_df[\"efforts\"] = results_df[\"efforts\"].apply(ast.literal_eval)"
   ]
  },
  {
   "cell_type": "code",
   "execution_count": 11,
   "id": "6d1dc633",
   "metadata": {},
   "outputs": [
    {
     "data": {
      "image/png": "[encoded data removed]",
      "text/plain": [
       "<Figure size 1200x600 with 1 Axes>"
      ]
     },
     "metadata": {},
     "output_type": "display_data"
    }
   ],
   "source": [
    "import matplotlib.pyplot as plt\n",
    "\n",
    "plt.figure(figsize=(12, 6))\n",
    "for idx, row in results_df.head().iterrows():\n",
    "    efforts = row[\"efforts\"]\n",
    "    accs = row[\"val_acc\"]\n",
    "    plt.plot(efforts, accs, label=f'Model {idx}', marker='o', alpha=0.6)\n",
    "plt.xlabel(\"Effort\")\n",
    "plt.ylabel(\"Validation Accuracy\")\n",
    "plt.title(\"Validation Accuracy vs Effort per Model\")\n",
    "plt.legend()\n",
    "plt.grid(True)\n",
    "plt.tight_layout()\n",
    "plt.show()\n"
   ]
  },
  {
   "cell_type": "code",
   "execution_count": 12,
   "id": "b01d90f2",
   "metadata": {},
   "outputs": [],
   "source": [
    "# Train till the end the best model\n",
    "best_model = generation.get_best_model()"
   ]
  },
  {
   "cell_type": "code",
   "execution_count": 13,
   "id": "42b79a55",
   "metadata": {},
   "outputs": [],
   "source": [
    "from instance_sampling import create_dataloaders\n",
    "\n",
    "batch_size = int(results_df.loc[0, 'batch_size']) # batch size for training the model\n",
    "# For training a model, DataLoader is needed\n",
    "train_loader = create_dataloaders(X=X_train, y=y_train, \n",
    "                       batch_size=batch_size)\n",
    "val_loader = create_dataloaders(X=X_val, y=y_val, \n",
    "                       batch_size=batch_size)\n",
    "test_loader = create_dataloaders(X=X_test, y=y_test, \n",
    "                       batch_size=batch_size)"
   ]
  },
  {
   "cell_type": "code",
   "execution_count": 14,
   "id": "6899b082",
   "metadata": {},
   "outputs": [
    {
     "name": "stdout",
     "output_type": "stream",
     "text": [
      "New best acc found: 0.7500\n",
      "Epoch 1: Train Loss=0.2495, Train Acc=0.9016, Val Loss=0.7899, Val Acc=0.7500\n",
      "Epoch 2: Train Loss=0.2004, Train Acc=0.9156, Val Loss=0.7625, Val Acc=0.7188\n",
      "Epoch 3: Train Loss=0.1783, Train Acc=0.9266, Val Loss=0.9844, Val Acc=0.7125\n",
      "New best acc found: 0.7562\n",
      "Epoch 4: Train Loss=0.1769, Train Acc=0.9328, Val Loss=0.8889, Val Acc=0.7562\n",
      "Epoch 5: Train Loss=0.1132, Train Acc=0.9688, Val Loss=1.0977, Val Acc=0.7438\n",
      "Epoch 6: Train Loss=0.1118, Train Acc=0.9641, Val Loss=1.1858, Val Acc=0.7188\n",
      "Epoch 7: Train Loss=0.1076, Train Acc=0.9578, Val Loss=1.0321, Val Acc=0.7500\n",
      "Epoch 8: Train Loss=0.2252, Train Acc=0.9109, Val Loss=0.9526, Val Acc=0.6750\n",
      "Epoch 9: Train Loss=0.1158, Train Acc=0.9703, Val Loss=1.1552, Val Acc=0.7188\n",
      "Epoch 10: Train Loss=0.0757, Train Acc=0.9750, Val Loss=1.4845, Val Acc=0.7312\n",
      "Epoch 11: Train Loss=0.0545, Train Acc=0.9859, Val Loss=1.5007, Val Acc=0.7438\n",
      "Epoch 12: Train Loss=0.0455, Train Acc=0.9891, Val Loss=1.4957, Val Acc=0.7188\n",
      "Epoch 13: Train Loss=0.0350, Train Acc=0.9906, Val Loss=1.6127, Val Acc=0.7312\n",
      "Epoch 14: Train Loss=0.0312, Train Acc=0.9906, Val Loss=1.6452, Val Acc=0.7312\n",
      "Epoch 15: Train Loss=0.0295, Train Acc=0.9906, Val Loss=1.9244, Val Acc=0.7562\n",
      "Epoch 16: Train Loss=0.2103, Train Acc=0.9375, Val Loss=1.7591, Val Acc=0.7063\n",
      "Epoch 17: Train Loss=0.1635, Train Acc=0.9453, Val Loss=1.1892, Val Acc=0.7125\n",
      "Epoch 18: Train Loss=0.0567, Train Acc=0.9812, Val Loss=1.4213, Val Acc=0.7188\n",
      "Epoch 19: Train Loss=0.0361, Train Acc=0.9906, Val Loss=1.7023, Val Acc=0.7125\n",
      "Epoch 20: Train Loss=0.0319, Train Acc=0.9906, Val Loss=1.7899, Val Acc=0.7063\n",
      "Epoch 21: Train Loss=0.0302, Train Acc=0.9906, Val Loss=1.9451, Val Acc=0.7125\n",
      "Epoch 22: Train Loss=0.0292, Train Acc=0.9906, Val Loss=1.9917, Val Acc=0.7125\n",
      "Epoch 23: Train Loss=0.0280, Train Acc=0.9906, Val Loss=2.0961, Val Acc=0.7125\n",
      "Epoch 24: Train Loss=0.0279, Train Acc=0.9906, Val Loss=2.1633, Val Acc=0.7125\n",
      "Epoch 25: Train Loss=0.0283, Train Acc=0.9906, Val Loss=2.1353, Val Acc=0.7188\n",
      "Epoch 26: Train Loss=0.0274, Train Acc=0.9906, Val Loss=2.2757, Val Acc=0.7250\n",
      "Epoch 27: Train Loss=0.0268, Train Acc=0.9906, Val Loss=2.3147, Val Acc=0.7312\n",
      "Epoch 28: Train Loss=0.0379, Train Acc=0.9875, Val Loss=2.5680, Val Acc=0.7063\n",
      "Epoch 29: Train Loss=0.3294, Train Acc=0.9047, Val Loss=1.0192, Val Acc=0.6813\n",
      "Epoch 30: Train Loss=0.0715, Train Acc=0.9766, Val Loss=1.4911, Val Acc=0.6937\n",
      "Epoch 31: Train Loss=0.0475, Train Acc=0.9844, Val Loss=1.5818, Val Acc=0.7125\n",
      "Epoch 32: Train Loss=0.0736, Train Acc=0.9781, Val Loss=1.5026, Val Acc=0.7000\n",
      "Epoch 33: Train Loss=0.0546, Train Acc=0.9812, Val Loss=1.6742, Val Acc=0.7312\n",
      "Epoch 34: Train Loss=0.0433, Train Acc=0.9859, Val Loss=1.5738, Val Acc=0.7188\n",
      "Epoch 35: Train Loss=0.0301, Train Acc=0.9906, Val Loss=1.7547, Val Acc=0.7188\n",
      "Epoch 36: Train Loss=0.0280, Train Acc=0.9906, Val Loss=1.7126, Val Acc=0.7250\n",
      "Epoch 37: Train Loss=0.0289, Train Acc=0.9906, Val Loss=1.8597, Val Acc=0.7188\n",
      "Epoch 38: Train Loss=0.0272, Train Acc=0.9906, Val Loss=1.9019, Val Acc=0.7125\n",
      "Epoch 39: Train Loss=0.0279, Train Acc=0.9906, Val Loss=2.0069, Val Acc=0.7188\n",
      "Epoch 40: Train Loss=0.0268, Train Acc=0.9906, Val Loss=2.0968, Val Acc=0.7250\n",
      "Epoch 41: Train Loss=0.0266, Train Acc=0.9906, Val Loss=2.0290, Val Acc=0.7250\n",
      "Epoch 42: Train Loss=0.0258, Train Acc=0.9906, Val Loss=2.0312, Val Acc=0.7250\n",
      "Epoch 43: Train Loss=0.0263, Train Acc=0.9906, Val Loss=2.0543, Val Acc=0.7250\n",
      "Epoch 44: Train Loss=0.0269, Train Acc=0.9906, Val Loss=2.1270, Val Acc=0.7312\n",
      "Epoch 45: Train Loss=0.0267, Train Acc=0.9906, Val Loss=2.0965, Val Acc=0.7312\n",
      "Epoch 46: Train Loss=0.0263, Train Acc=0.9906, Val Loss=2.1804, Val Acc=0.7250\n",
      "Epoch 47: Train Loss=0.0274, Train Acc=0.9906, Val Loss=2.1136, Val Acc=0.7312\n",
      "Epoch 48: Train Loss=0.0256, Train Acc=0.9906, Val Loss=2.2849, Val Acc=0.7250\n",
      "Epoch 49: Train Loss=0.0266, Train Acc=0.9906, Val Loss=2.1759, Val Acc=0.7312\n",
      "Epoch 50: Train Loss=0.0255, Train Acc=0.9906, Val Loss=2.3528, Val Acc=0.7188\n",
      "Epoch 51: Train Loss=0.0272, Train Acc=0.9906, Val Loss=2.3442, Val Acc=0.7250\n",
      "Epoch 52: Train Loss=0.0268, Train Acc=0.9906, Val Loss=2.3908, Val Acc=0.7250\n",
      "Epoch 53: Train Loss=0.0257, Train Acc=0.9906, Val Loss=2.1995, Val Acc=0.7250\n",
      "Epoch 54: Train Loss=0.0265, Train Acc=0.9906, Val Loss=2.1815, Val Acc=0.7188\n",
      "Epoch 55: Train Loss=0.0297, Train Acc=0.9906, Val Loss=1.9395, Val Acc=0.7438\n",
      "Epoch 56: Train Loss=0.0306, Train Acc=0.9891, Val Loss=2.2130, Val Acc=0.7375\n",
      "Epoch 57: Train Loss=0.9073, Train Acc=0.8125, Val Loss=0.7841, Val Acc=0.7125\n",
      "Epoch 58: Train Loss=0.1549, Train Acc=0.9484, Val Loss=1.0170, Val Acc=0.7188\n",
      "Epoch 59: Train Loss=0.0560, Train Acc=0.9859, Val Loss=1.4486, Val Acc=0.7125\n",
      "Epoch 60: Train Loss=0.0461, Train Acc=0.9859, Val Loss=1.7430, Val Acc=0.7000\n",
      "Epoch 61: Train Loss=0.0344, Train Acc=0.9891, Val Loss=1.7201, Val Acc=0.7312\n",
      "Epoch 62: Train Loss=0.0294, Train Acc=0.9906, Val Loss=1.8095, Val Acc=0.7188\n",
      "Epoch 63: Train Loss=0.0279, Train Acc=0.9906, Val Loss=1.8071, Val Acc=0.7250\n",
      "Epoch 64: Train Loss=0.0277, Train Acc=0.9906, Val Loss=1.9054, Val Acc=0.7188\n",
      "Epoch 65: Train Loss=0.0266, Train Acc=0.9906, Val Loss=2.0504, Val Acc=0.7188\n",
      "Epoch 66: Train Loss=0.0262, Train Acc=0.9906, Val Loss=2.0655, Val Acc=0.7188\n",
      "Epoch 67: Train Loss=0.0257, Train Acc=0.9906, Val Loss=2.1486, Val Acc=0.7188\n",
      "Epoch 68: Train Loss=0.0252, Train Acc=0.9906, Val Loss=2.1486, Val Acc=0.7312\n",
      "Epoch 69: Train Loss=0.0260, Train Acc=0.9906, Val Loss=2.1881, Val Acc=0.7312\n",
      "Epoch 70: Train Loss=0.1009, Train Acc=0.9797, Val Loss=2.6122, Val Acc=0.6937\n",
      "Epoch 71: Train Loss=0.1128, Train Acc=0.9609, Val Loss=1.4515, Val Acc=0.7125\n",
      "Epoch 72: Train Loss=0.0469, Train Acc=0.9844, Val Loss=1.8119, Val Acc=0.7000\n",
      "Epoch 73: Train Loss=0.0523, Train Acc=0.9812, Val Loss=1.8080, Val Acc=0.6875\n",
      "Epoch 74: Train Loss=0.0359, Train Acc=0.9875, Val Loss=1.8613, Val Acc=0.7125\n",
      "Epoch 75: Train Loss=0.0202, Train Acc=0.9906, Val Loss=2.3105, Val Acc=0.7000\n",
      "Epoch 76: Train Loss=0.0155, Train Acc=0.9906, Val Loss=2.5459, Val Acc=0.7000\n",
      "Epoch 77: Train Loss=0.0130, Train Acc=0.9922, Val Loss=2.4818, Val Acc=0.7125\n",
      "Epoch 78: Train Loss=0.0113, Train Acc=0.9938, Val Loss=2.8060, Val Acc=0.7063\n",
      "Epoch 79: Train Loss=0.0112, Train Acc=0.9938, Val Loss=2.7127, Val Acc=0.7188\n",
      "Epoch 80: Train Loss=0.0106, Train Acc=0.9953, Val Loss=2.9271, Val Acc=0.7063\n",
      "Epoch 81: Train Loss=0.0098, Train Acc=0.9953, Val Loss=2.9918, Val Acc=0.7000\n",
      "Epoch 82: Train Loss=0.0100, Train Acc=0.9953, Val Loss=3.0771, Val Acc=0.7063\n",
      "Epoch 83: Train Loss=0.0098, Train Acc=0.9953, Val Loss=3.1777, Val Acc=0.7063\n",
      "Epoch 84: Train Loss=0.0102, Train Acc=0.9938, Val Loss=3.0791, Val Acc=0.7063\n",
      "Epoch 85: Train Loss=0.0096, Train Acc=0.9953, Val Loss=3.1717, Val Acc=0.7063\n",
      "Epoch 86: Train Loss=0.0102, Train Acc=0.9953, Val Loss=3.0838, Val Acc=0.7125\n",
      "Epoch 87: Train Loss=0.0102, Train Acc=0.9953, Val Loss=3.2609, Val Acc=0.7063\n",
      "Epoch 88: Train Loss=0.0105, Train Acc=0.9953, Val Loss=3.2199, Val Acc=0.7063\n",
      "Epoch 89: Train Loss=0.0094, Train Acc=0.9953, Val Loss=3.2345, Val Acc=0.7063\n",
      "Epoch 90: Train Loss=0.0099, Train Acc=0.9953, Val Loss=3.2369, Val Acc=0.7063\n",
      "Epoch 91: Train Loss=0.0096, Train Acc=0.9953, Val Loss=3.3666, Val Acc=0.7063\n",
      "Epoch 92: Train Loss=0.0098, Train Acc=0.9953, Val Loss=3.2021, Val Acc=0.7063\n",
      "Epoch 93: Train Loss=0.0097, Train Acc=0.9953, Val Loss=3.2305, Val Acc=0.7063\n",
      "Epoch 94: Train Loss=0.0098, Train Acc=0.9953, Val Loss=3.2028, Val Acc=0.7063\n",
      "Epoch 95: Train Loss=0.0100, Train Acc=0.9953, Val Loss=3.2292, Val Acc=0.7063\n",
      "Epoch 96: Train Loss=0.0096, Train Acc=0.9953, Val Loss=3.2919, Val Acc=0.7063\n",
      "Epoch 97: Train Loss=0.0093, Train Acc=0.9953, Val Loss=3.2096, Val Acc=0.7063\n",
      "Epoch 98: Train Loss=0.0126, Train Acc=0.9938, Val Loss=8.0773, Val Acc=0.6687\n",
      "Epoch 99: Train Loss=0.6215, Train Acc=0.8797, Val Loss=0.8638, Val Acc=0.7063\n",
      "Epoch 100: Train Loss=0.1362, Train Acc=0.9578, Val Loss=1.0309, Val Acc=0.7312\n",
      "Epoch 101: Train Loss=0.0532, Train Acc=0.9719, Val Loss=1.4927, Val Acc=0.7188\n",
      "Epoch 102: Train Loss=0.0329, Train Acc=0.9859, Val Loss=1.5984, Val Acc=0.7188\n",
      "Epoch 103: Train Loss=0.0152, Train Acc=0.9906, Val Loss=1.8350, Val Acc=0.7250\n",
      "Epoch 104: Train Loss=0.0108, Train Acc=0.9938, Val Loss=1.9826, Val Acc=0.7250\n",
      "Early stopping triggered after 104 epochs.\n",
      "Best model training loss: 0.1769, training accuracy: 0.9328\n",
      "Best model validation loss: 0.8889, validation accuracy: 0.7562\n",
      "Test loss: 1.0259, Test accuracy: 0.6850\n"
     ]
    }
   ],
   "source": [
    "best_train_loss, best_train_acc, best_val_loss, best_val_acc = best_model.es_train(train_loader=train_loader, val_loader=val_loader,\n",
    "                    es_patience=100, # epochs without improvement\n",
    "                    max_epochs=1000, # cap for epochs\n",
    "                    verbose=True, # print training progress\n",
    ")\n",
    "\n",
    "test_loss, test_accuracy = best_model.evaluate(test_loader)\n",
    "print(f\"Best model training loss: {best_train_loss:.4f}, training accuracy: {best_train_acc:.4f}\")\n",
    "print(f\"Best model validation loss: {best_val_loss:.4f}, validation accuracy: {best_val_acc:.4f}\")\n",
    "print(f\"Test loss: {test_loss:.4f}, Test accuracy: {test_accuracy:.4f}\")"
   ]
  },
  {
   "cell_type": "code",
   "execution_count": 15,
   "id": "a3c906f5",
   "metadata": {},
   "outputs": [
    {
     "data": {
      "text/plain": [
       "np.float64(0.7880643557092375)"
      ]
     },
     "execution_count": 15,
     "metadata": {},
     "output_type": "execute_result"
    }
   ],
   "source": [
    "results_df.loc[0, 'fcst_accuracy']"
   ]
  },
  {
   "cell_type": "code",
   "execution_count": null,
   "id": "4a6661ad",
   "metadata": {},
   "outputs": [],
   "source": []
  },
  {
   "cell_type": "code",
   "execution_count": 20,
   "id": "5a6e4dfd",
   "metadata": {},
   "outputs": [
    {
     "name": "stdout",
     "output_type": "stream",
     "text": [
      "Baseline metric found by NaiveAutoMl: 0.7469\n",
      "True validation accuracy of the best model: 0.75625\n",
      "Time budget used in NaiveAutoML: 179.68272352218628\n",
      "Time budget for neural models (3x Naive): 539.0481705665588\n",
      "____________________\n",
      "Best neural model forecasted accuracy: 0.7880643557092375\n",
      "Best neural model final (true) validation accuracy: 0.75625\n",
      "The best model's final validation accuracy is less than the forecasted accuracy.\n",
      "The best model true validation accuracy outperforms the baseline metric\n"
     ]
    }
   ],
   "source": [
    "\n",
    "# Print the report\n",
    "print('Baseline metric found by NaiveAutoMl:', baseline_metric)\n",
    "print('True validation accuracy of the best model:', best_val_acc)\n",
    "print('Time budget used in NaiveAutoML:', time_budget / 3)\n",
    "print('Time budget for neural models (3x Naive):', time_budget)\n",
    "print('_' * 20)\n",
    "print('Best neural model forecasted accuracy:', results_df.loc[0, 'fcst_accuracy'])\n",
    "print('Best neural model final (true) validation accuracy:', best_val_acc)\n",
    "if best_val_acc < results_df.loc[0, 'fcst_accuracy']:\n",
    "    print(\"The best model's final validation accuracy is less than the forecasted accuracy.\")\n",
    "else:\n",
    "    print(\"The best model's final validation accuracy is greater or equal than the forecasted accuracy.\")\n",
    "\n",
    "if best_val_acc > baseline_metric:\n",
    "    print(\"The best model true validation accuracy outperforms the baseline metric\")\n",
    "\n",
    "else:\n",
    "    print(\"The best model true validation accuracy does not outperform the baseline metric\")\n",
    "\n",
    "    \n"
   ]
  },
  {
   "cell_type": "markdown",
   "id": "cad1dfe5",
   "metadata": {},
   "source": [
    "# TODO: \n",
    "- Don't stop EBE until all time budget is used, no matter if only 10 models or less are pending. Invent something, test other models, IDK. **Mutate them (?)**\n"
   ]
  }
 ],
 "metadata": {
  "kernelspec": {
   "display_name": "AutoML",
   "language": "python",
   "name": "python3"
  },
  "language_info": {
   "codemirror_mode": {
    "name": "ipython",
    "version": 3
   },
   "file_extension": ".py",
   "mimetype": "text/x-python",
   "name": "python",
   "nbconvert_exporter": "python",
   "pygments_lexer": "ipython3",
   "version": "3.11.11"
  }
 },
 "nbformat": 4,
 "nbformat_minor": 5
}

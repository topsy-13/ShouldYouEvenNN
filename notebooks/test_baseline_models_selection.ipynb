{
 "cells": [
  {
   "cell_type": "code",
   "execution_count": 1,
   "id": "2ff9b2e2",
   "metadata": {},
   "outputs": [],
   "source": [
    "import sys\n",
    "import os\n",
    "\n",
    "# Adjust the path to point to the 'src' directory relative to your notebook\n",
    "sys.path.append(os.path.abspath(\"../src\"))\n"
   ]
  },
  {
   "cell_type": "code",
   "execution_count": 2,
   "id": "17471c68",
   "metadata": {},
   "outputs": [],
   "source": [
    "import baseline_models\n",
    "import sklearn.datasets"
   ]
  },
  {
   "cell_type": "code",
   "execution_count": 3,
   "id": "d59b7be7",
   "metadata": {},
   "outputs": [],
   "source": [
    "# import naiveautoml\n",
    "# import sklearn.datasets\n",
    "# naml = naiveautoml.NaiveAutoML(scoring=\"accuracy\")\n",
    "# X, y = sklearn.datasets.load_iris(return_X_y=True)\n",
    "# naml.fit(X, y)\n",
    "# print(naml.chosen_model)"
   ]
  },
  {
   "cell_type": "code",
   "execution_count": 4,
   "id": "9c4fc3e9",
   "metadata": {},
   "outputs": [],
   "source": [
    "# display(naml.history)"
   ]
  },
  {
   "cell_type": "code",
   "execution_count": 5,
   "id": "35944d3e",
   "metadata": {},
   "outputs": [
    {
     "name": "stdout",
     "output_type": "stream",
     "text": [
      "             time   runtime  \\\n",
      "0    1.754497e+09  0.208048   \n",
      "1    1.754497e+09  0.267205   \n",
      "2    1.754497e+09  0.316060   \n",
      "3    1.754497e+09  0.022507   \n",
      "4    1.754497e+09  0.006000   \n",
      "..            ...       ...   \n",
      "127  1.754497e+09  0.015004   \n",
      "128  1.754497e+09  0.023003   \n",
      "129  1.754497e+09  0.022509   \n",
      "130  1.754497e+09  0.016001   \n",
      "131  1.754497e+09  0.015506   \n",
      "\n",
      "                                              pipeline  default_hp  accuracy  \\\n",
      "0                             (ExtraTreesClassifier())        True    0.9600   \n",
      "1                           (RandomForestClassifier())        True    0.9533   \n",
      "2                   (HistGradientBoostingClassifier())        True    0.9600   \n",
      "3                                      (BernoulliNB())        True    0.3333   \n",
      "4                           (DecisionTreeClassifier())        True    0.9533   \n",
      "..                                                 ...         ...       ...   \n",
      "127  (QuantileTransformer(n_quantiles=1390, output_...       False    0.9333   \n",
      "128  (QuantileTransformer(n_quantiles=1898, output_...       False    0.8933   \n",
      "129  (QuantileTransformer(n_quantiles=1133, output_...       False    0.9267   \n",
      "130  (QuantileTransformer(n_quantiles=1597, output_...       False    0.9467   \n",
      "131  (QuantileTransformer(n_quantiles=38, output_di...       False    0.9733   \n",
      "\n",
      "     new_best                                  evaluation_report status  \\\n",
      "0        True  {'accuracy': [0.9333333333333333, 1.0, 0.9, 1....     ok   \n",
      "1       False  {'accuracy': [0.8666666666666667, 0.9666666666...     ok   \n",
      "2       False  {'accuracy': [0.9333333333333333, 1.0, 0.96666...     ok   \n",
      "3       False  {'accuracy': [0.3333333333333333, 0.3333333333...     ok   \n",
      "4       False  {'accuracy': [0.9666666666666667, 0.9666666666...     ok   \n",
      "..        ...                                                ...    ...   \n",
      "127      True  {'accuracy': [0.9, 0.9333333333333333, 0.96666...     ok   \n",
      "128      True  {'accuracy': [0.8666666666666667, 0.9666666666...     ok   \n",
      "129      True  {'accuracy': [1.0, 0.9, 0.9333333333333333, 0....     ok   \n",
      "130      True  {'accuracy': [0.9333333333333333, 0.9333333333...     ok   \n",
      "131      True  {'accuracy': [1.0, 1.0, 0.9333333333333333, 1....     ok   \n",
      "\n",
      "    exception                         data-pre-processor_class  \\\n",
      "0        None                                             None   \n",
      "1        None                                             None   \n",
      "2        None                                             None   \n",
      "3        None                                             None   \n",
      "4        None                                             None   \n",
      "..        ...                                              ...   \n",
      "127      None  sklearn.preprocessing._data.QuantileTransformer   \n",
      "128      None  sklearn.preprocessing._data.QuantileTransformer   \n",
      "129      None  sklearn.preprocessing._data.QuantileTransformer   \n",
      "130      None  sklearn.preprocessing._data.QuantileTransformer   \n",
      "131      None  sklearn.preprocessing._data.QuantileTransformer   \n",
      "\n",
      "                                data-pre-processor_hps  \\\n",
      "0                                                 None   \n",
      "1                                                 None   \n",
      "2                                                 None   \n",
      "3                                                 None   \n",
      "4                                                 None   \n",
      "..                                                 ...   \n",
      "127  {'n_quantiles': 1390, 'output_distribution': '...   \n",
      "128  {'n_quantiles': 1898, 'output_distribution': '...   \n",
      "129  {'n_quantiles': 1133, 'output_distribution': '...   \n",
      "130  {'n_quantiles': 1597, 'output_distribution': '...   \n",
      "131  {'n_quantiles': 38, 'output_distribution': 'un...   \n",
      "\n",
      "    feature-pre-processor_class feature-pre-processor_hps  \\\n",
      "0                          None                      None   \n",
      "1                          None                      None   \n",
      "2                          None                      None   \n",
      "3                          None                      None   \n",
      "4                          None                      None   \n",
      "..                          ...                       ...   \n",
      "127                        None                      None   \n",
      "128                        None                      None   \n",
      "129                        None                      None   \n",
      "130                        None                      None   \n",
      "131                        None                      None   \n",
      "\n",
      "                                         learner_class  \\\n",
      "0        sklearn.ensemble._forest.ExtraTreesClassifier   \n",
      "1      sklearn.ensemble._forest.RandomForestClassifier   \n",
      "2      sklearn.ensemble.HistGradientBoostingClassifier   \n",
      "3                      sklearn.naive_bayes.BernoulliNB   \n",
      "4         sklearn.tree._classes.DecisionTreeClassifier   \n",
      "..                                                 ...   \n",
      "127  sklearn.discriminant_analysis.LinearDiscrimina...   \n",
      "128  sklearn.discriminant_analysis.LinearDiscrimina...   \n",
      "129  sklearn.discriminant_analysis.LinearDiscrimina...   \n",
      "130  sklearn.discriminant_analysis.LinearDiscrimina...   \n",
      "131  sklearn.discriminant_analysis.LinearDiscrimina...   \n",
      "\n",
      "                                           learner_hps  \n",
      "0                                                 None  \n",
      "1                                                 None  \n",
      "2                                                 None  \n",
      "3                                                 None  \n",
      "4                                                 None  \n",
      "..                                                 ...  \n",
      "127  {'shrinkage': 'manual', 'tol': 0.0008806127043...  \n",
      "128  {'shrinkage': 'manual', 'tol': 0.0002519914946...  \n",
      "129  {'shrinkage': 'manual', 'tol': 0.0004449390643...  \n",
      "130      {'shrinkage': 'auto', 'tol': 0.0004426862191}  \n",
      "131  {'shrinkage': 'manual', 'tol': 2.00314866e-05,...  \n",
      "\n",
      "[132 rows x 15 columns]\n"
     ]
    },
    {
     "data": {
      "application/vnd.microsoft.datawrangler.viewer.v0+json": {
       "columns": [
        {
         "name": "index",
         "rawType": "int64",
         "type": "integer"
        },
        {
         "name": "pipeline",
         "rawType": "object",
         "type": "unknown"
        },
        {
         "name": "accuracy",
         "rawType": "float64",
         "type": "float"
        }
       ],
       "ref": "e21e7ea3-4201-4bef-a246-8d4d3e6c65ca",
       "rows": [
        [
         "19",
         "Pipeline(steps=[('data-pre-processor', QuantileTransformer()),\n                ('learner', LinearDiscriminantAnalysis())])",
         "0.9867"
        ],
        [
         "21",
         "Pipeline(steps=[('data-pre-processor', StandardScaler()),\n                ('learner', LinearDiscriminantAnalysis())])",
         "0.9867"
        ],
        [
         "20",
         "Pipeline(steps=[('data-pre-processor', RobustScaler()),\n                ('learner', LinearDiscriminantAnalysis())])",
         "0.9867"
        ],
        [
         "62",
         "Pipeline(steps=[('data-pre-processor',\n                 QuantileTransformer(n_quantiles=337,\n                                     output_distribution=np.str_('uniform'))),\n                ('learner',\n                 LinearDiscriminantAnalysis(solver='lsqr',\n                                            tol=0.0008365968518))])",
         "0.9867"
        ],
        [
         "79",
         "Pipeline(steps=[('data-pre-processor',\n                 QuantileTransformer(n_quantiles=1679,\n                                     output_distribution=np.str_('uniform'))),\n                ('learner',\n                 LinearDiscriminantAnalysis(shrinkage='auto', solver='lsqr',\n                                            tol=7.92824556e-05))])",
         "0.9867"
        ],
        [
         "93",
         "Pipeline(steps=[('data-pre-processor',\n                 QuantileTransformer(n_quantiles=1844,\n                                     output_distribution=np.str_('uniform'))),\n                ('learner',\n                 LinearDiscriminantAnalysis(solver='lsqr',\n                                            tol=0.0009385212873))])",
         "0.9867"
        ],
        [
         "18",
         "Pipeline(steps=[('data-pre-processor', PowerTransformer()),\n                ('learner', LinearDiscriminantAnalysis())])",
         "0.98"
        ],
        [
         "43",
         "Pipeline(steps=[('data-pre-processor',\n                 QuantileTransformer(n_quantiles=1831,\n                                     output_distribution=np.str_('uniform'))),\n                ('learner',\n                 LinearDiscriminantAnalysis(shrinkage='auto', solver='lsqr',\n                                            tol=0.0001243991416))])",
         "0.98"
        ],
        [
         "51",
         "Pipeline(steps=[('data-pre-processor',\n                 QuantileTransformer(n_quantiles=990,\n                                     output_distribution=np.str_('uniform'))),\n                ('learner',\n                 LinearDiscriminantAnalysis(solver='lsqr',\n                                            tol=0.0003270339796))])",
         "0.98"
        ],
        [
         "99",
         "Pipeline(steps=[('data-pre-processor',\n                 QuantileTransformer(n_quantiles=391,\n                                     output_distribution=np.str_('uniform'))),\n                ('learner',\n                 LinearDiscriminantAnalysis(shrinkage='auto', solver='lsqr',\n                                            tol=0.0233233148811))])",
         "0.98"
        ]
       ],
       "shape": {
        "columns": 2,
        "rows": 10
       }
      },
      "text/html": [
       "<div>\n",
       "<style scoped>\n",
       "    .dataframe tbody tr th:only-of-type {\n",
       "        vertical-align: middle;\n",
       "    }\n",
       "\n",
       "    .dataframe tbody tr th {\n",
       "        vertical-align: top;\n",
       "    }\n",
       "\n",
       "    .dataframe thead th {\n",
       "        text-align: right;\n",
       "    }\n",
       "</style>\n",
       "<table border=\"1\" class=\"dataframe\">\n",
       "  <thead>\n",
       "    <tr style=\"text-align: right;\">\n",
       "      <th></th>\n",
       "      <th>pipeline</th>\n",
       "      <th>accuracy</th>\n",
       "    </tr>\n",
       "  </thead>\n",
       "  <tbody>\n",
       "    <tr>\n",
       "      <th>19</th>\n",
       "      <td>(QuantileTransformer(), LinearDiscriminantAnal...</td>\n",
       "      <td>0.9867</td>\n",
       "    </tr>\n",
       "    <tr>\n",
       "      <th>21</th>\n",
       "      <td>(StandardScaler(), LinearDiscriminantAnalysis())</td>\n",
       "      <td>0.9867</td>\n",
       "    </tr>\n",
       "    <tr>\n",
       "      <th>20</th>\n",
       "      <td>(RobustScaler(), LinearDiscriminantAnalysis())</td>\n",
       "      <td>0.9867</td>\n",
       "    </tr>\n",
       "    <tr>\n",
       "      <th>62</th>\n",
       "      <td>(QuantileTransformer(n_quantiles=337, output_d...</td>\n",
       "      <td>0.9867</td>\n",
       "    </tr>\n",
       "    <tr>\n",
       "      <th>79</th>\n",
       "      <td>(QuantileTransformer(n_quantiles=1679, output_...</td>\n",
       "      <td>0.9867</td>\n",
       "    </tr>\n",
       "    <tr>\n",
       "      <th>93</th>\n",
       "      <td>(QuantileTransformer(n_quantiles=1844, output_...</td>\n",
       "      <td>0.9867</td>\n",
       "    </tr>\n",
       "    <tr>\n",
       "      <th>18</th>\n",
       "      <td>(PowerTransformer(), LinearDiscriminantAnalysi...</td>\n",
       "      <td>0.9800</td>\n",
       "    </tr>\n",
       "    <tr>\n",
       "      <th>43</th>\n",
       "      <td>(QuantileTransformer(n_quantiles=1831, output_...</td>\n",
       "      <td>0.9800</td>\n",
       "    </tr>\n",
       "    <tr>\n",
       "      <th>51</th>\n",
       "      <td>(QuantileTransformer(n_quantiles=990, output_d...</td>\n",
       "      <td>0.9800</td>\n",
       "    </tr>\n",
       "    <tr>\n",
       "      <th>99</th>\n",
       "      <td>(QuantileTransformer(n_quantiles=391, output_d...</td>\n",
       "      <td>0.9800</td>\n",
       "    </tr>\n",
       "  </tbody>\n",
       "</table>\n",
       "</div>"
      ],
      "text/plain": [
       "                                             pipeline  accuracy\n",
       "19  (QuantileTransformer(), LinearDiscriminantAnal...    0.9867\n",
       "21   (StandardScaler(), LinearDiscriminantAnalysis())    0.9867\n",
       "20     (RobustScaler(), LinearDiscriminantAnalysis())    0.9867\n",
       "62  (QuantileTransformer(n_quantiles=337, output_d...    0.9867\n",
       "79  (QuantileTransformer(n_quantiles=1679, output_...    0.9867\n",
       "93  (QuantileTransformer(n_quantiles=1844, output_...    0.9867\n",
       "18  (PowerTransformer(), LinearDiscriminantAnalysi...    0.9800\n",
       "43  (QuantileTransformer(n_quantiles=1831, output_...    0.9800\n",
       "51  (QuantileTransformer(n_quantiles=990, output_d...    0.9800\n",
       "99  (QuantileTransformer(n_quantiles=391, output_d...    0.9800"
      ]
     },
     "metadata": {},
     "output_type": "display_data"
    },
    {
     "name": "stdout",
     "output_type": "stream",
     "text": [
      "Baseline Metric: 0.9840200000000001\n"
     ]
    }
   ],
   "source": [
    "X, y = sklearn.datasets.load_iris(return_X_y=True)\n",
    "history = baseline_models.get_best_models(X, y)\n",
    "display(history)\n",
    "\n",
    "metric = baseline_models.get_baseline_metric(history)\n",
    "print('Baseline Metric:', metric)"
   ]
  },
  {
   "cell_type": "code",
   "execution_count": null,
   "id": "47fe94de",
   "metadata": {},
   "outputs": [],
   "source": [
    "baseline"
   ]
  }
 ],
 "metadata": {
  "kernelspec": {
   "display_name": "AutoML",
   "language": "python",
   "name": "python3"
  },
  "language_info": {
   "codemirror_mode": {
    "name": "ipython",
    "version": 3
   },
   "file_extension": ".py",
   "mimetype": "text/x-python",
   "name": "python",
   "nbconvert_exporter": "python",
   "pygments_lexer": "ipython3",
   "version": "3.11.11"
  }
 },
 "nbformat": 4,
 "nbformat_minor": 5
}

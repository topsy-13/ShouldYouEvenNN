{
 "cells": [
  {
   "cell_type": "code",
   "execution_count": 1,
   "id": "2ff9b2e2",
   "metadata": {},
   "outputs": [],
   "source": [
    "import sys\n",
    "import os\n",
    "\n",
    "# Adjust the path to point to the 'src' directory relative to your notebook\n",
    "sys.path.append(os.path.abspath(\"../src\"))\n"
   ]
  },
  {
   "cell_type": "code",
   "execution_count": 2,
   "id": "17471c68",
   "metadata": {},
   "outputs": [],
   "source": [
    "import baseline_models\n",
    "import sklearn.datasets"
   ]
  },
  {
   "cell_type": "code",
   "execution_count": 3,
   "id": "35944d3e",
   "metadata": {},
   "outputs": [
    {
     "data": {
      "application/vnd.microsoft.datawrangler.viewer.v0+json": {
       "columns": [
        {
         "name": "index",
         "rawType": "int64",
         "type": "integer"
        },
        {
         "name": "pipeline",
         "rawType": "object",
         "type": "unknown"
        },
        {
         "name": "neg_log_loss",
         "rawType": "float64",
         "type": "float"
        }
       ],
       "ref": "725ee39c-055c-4ce0-9635-e05e9a6bbcc0",
       "rows": [
        [
         "119",
         "Pipeline(steps=[('data-pre-processor', VarianceThreshold()),\n                ('learner',\n                 LinearDiscriminantAnalysis(solver='lsqr',\n                                            tol=0.004007791315))])",
         "-0.0125"
        ],
        [
         "100",
         "Pipeline(steps=[('data-pre-processor', VarianceThreshold()),\n                ('learner',\n                 LinearDiscriminantAnalysis(shrinkage='auto', solver='lsqr',\n                                            tol=0.0003944072164))])",
         "-0.0199"
        ],
        [
         "72",
         "Pipeline(steps=[('data-pre-processor', VarianceThreshold()),\n                ('learner',\n                 LinearDiscriminantAnalysis(solver='lsqr',\n                                            tol=0.0006118313614))])",
         "-0.0205"
        ],
        [
         "34",
         "Pipeline(steps=[('data-pre-processor', VarianceThreshold()),\n                ('learner',\n                 LinearDiscriminantAnalysis(shrinkage='auto', solver='lsqr',\n                                            tol=0.0003582823894))])",
         "-0.0221"
        ],
        [
         "128",
         "Pipeline(steps=[('data-pre-processor', VarianceThreshold()),\n                ('learner',\n                 LinearDiscriminantAnalysis(solver='lsqr',\n                                            tol=0.0003897881292))])",
         "-0.0223"
        ],
        [
         "73",
         "Pipeline(steps=[('data-pre-processor', VarianceThreshold()),\n                ('learner',\n                 LinearDiscriminantAnalysis(solver='lsqr',\n                                            tol=4.17471035e-05))])",
         "-0.0244"
        ],
        [
         "70",
         "Pipeline(steps=[('data-pre-processor', VarianceThreshold()),\n                ('learner',\n                 LinearDiscriminantAnalysis(solver='lsqr',\n                                            tol=0.0001084984939))])",
         "-0.0254"
        ],
        [
         "118",
         "Pipeline(steps=[('data-pre-processor', VarianceThreshold()),\n                ('learner',\n                 LinearDiscriminantAnalysis(solver='lsqr',\n                                            tol=0.0002378062163))])",
         "-0.0287"
        ],
        [
         "123",
         "Pipeline(steps=[('data-pre-processor', VarianceThreshold()),\n                ('learner',\n                 LinearDiscriminantAnalysis(shrinkage='auto', solver='lsqr',\n                                            tol=0.0483233304365))])",
         "-0.0316"
        ],
        [
         "105",
         "Pipeline(steps=[('data-pre-processor', VarianceThreshold()),\n                ('learner',\n                 LinearDiscriminantAnalysis(solver='lsqr',\n                                            tol=0.055166090046))])",
         "-0.0322"
        ]
       ],
       "shape": {
        "columns": 2,
        "rows": 10
       }
      },
      "text/html": [
       "<div>\n",
       "<style scoped>\n",
       "    .dataframe tbody tr th:only-of-type {\n",
       "        vertical-align: middle;\n",
       "    }\n",
       "\n",
       "    .dataframe tbody tr th {\n",
       "        vertical-align: top;\n",
       "    }\n",
       "\n",
       "    .dataframe thead th {\n",
       "        text-align: right;\n",
       "    }\n",
       "</style>\n",
       "<table border=\"1\" class=\"dataframe\">\n",
       "  <thead>\n",
       "    <tr style=\"text-align: right;\">\n",
       "      <th></th>\n",
       "      <th>pipeline</th>\n",
       "      <th>neg_log_loss</th>\n",
       "    </tr>\n",
       "  </thead>\n",
       "  <tbody>\n",
       "    <tr>\n",
       "      <th>119</th>\n",
       "      <td>(VarianceThreshold(), LinearDiscriminantAnalys...</td>\n",
       "      <td>-0.0125</td>\n",
       "    </tr>\n",
       "    <tr>\n",
       "      <th>100</th>\n",
       "      <td>(VarianceThreshold(), LinearDiscriminantAnalys...</td>\n",
       "      <td>-0.0199</td>\n",
       "    </tr>\n",
       "    <tr>\n",
       "      <th>72</th>\n",
       "      <td>(VarianceThreshold(), LinearDiscriminantAnalys...</td>\n",
       "      <td>-0.0205</td>\n",
       "    </tr>\n",
       "    <tr>\n",
       "      <th>34</th>\n",
       "      <td>(VarianceThreshold(), LinearDiscriminantAnalys...</td>\n",
       "      <td>-0.0221</td>\n",
       "    </tr>\n",
       "    <tr>\n",
       "      <th>128</th>\n",
       "      <td>(VarianceThreshold(), LinearDiscriminantAnalys...</td>\n",
       "      <td>-0.0223</td>\n",
       "    </tr>\n",
       "    <tr>\n",
       "      <th>73</th>\n",
       "      <td>(VarianceThreshold(), LinearDiscriminantAnalys...</td>\n",
       "      <td>-0.0244</td>\n",
       "    </tr>\n",
       "    <tr>\n",
       "      <th>70</th>\n",
       "      <td>(VarianceThreshold(), LinearDiscriminantAnalys...</td>\n",
       "      <td>-0.0254</td>\n",
       "    </tr>\n",
       "    <tr>\n",
       "      <th>118</th>\n",
       "      <td>(VarianceThreshold(), LinearDiscriminantAnalys...</td>\n",
       "      <td>-0.0287</td>\n",
       "    </tr>\n",
       "    <tr>\n",
       "      <th>123</th>\n",
       "      <td>(VarianceThreshold(), LinearDiscriminantAnalys...</td>\n",
       "      <td>-0.0316</td>\n",
       "    </tr>\n",
       "    <tr>\n",
       "      <th>105</th>\n",
       "      <td>(VarianceThreshold(), LinearDiscriminantAnalys...</td>\n",
       "      <td>-0.0322</td>\n",
       "    </tr>\n",
       "  </tbody>\n",
       "</table>\n",
       "</div>"
      ],
      "text/plain": [
       "                                              pipeline  neg_log_loss\n",
       "119  (VarianceThreshold(), LinearDiscriminantAnalys...       -0.0125\n",
       "100  (VarianceThreshold(), LinearDiscriminantAnalys...       -0.0199\n",
       "72   (VarianceThreshold(), LinearDiscriminantAnalys...       -0.0205\n",
       "34   (VarianceThreshold(), LinearDiscriminantAnalys...       -0.0221\n",
       "128  (VarianceThreshold(), LinearDiscriminantAnalys...       -0.0223\n",
       "73   (VarianceThreshold(), LinearDiscriminantAnalys...       -0.0244\n",
       "70   (VarianceThreshold(), LinearDiscriminantAnalys...       -0.0254\n",
       "118  (VarianceThreshold(), LinearDiscriminantAnalys...       -0.0287\n",
       "123  (VarianceThreshold(), LinearDiscriminantAnalys...       -0.0316\n",
       "105  (VarianceThreshold(), LinearDiscriminantAnalys...       -0.0322"
      ]
     },
     "metadata": {},
     "output_type": "display_data"
    },
    {
     "name": "stdout",
     "output_type": "stream",
     "text": [
      "Baseline Metric: -0.023960000000000002\n"
     ]
    }
   ],
   "source": [
    "X, y = sklearn.datasets.load_iris(return_X_y=True)\n",
    "history = baseline_models.get_best_models(X, y)\n",
    "display(history)\n",
    "\n",
    "metric = baseline_models.get_baseline_metric(history)\n",
    "print('Baseline Metric:', metric)"
   ]
  }
 ],
 "metadata": {
  "kernelspec": {
   "display_name": "AutoML",
   "language": "python",
   "name": "python3"
  },
  "language_info": {
   "codemirror_mode": {
    "name": "ipython",
    "version": 3
   },
   "file_extension": ".py",
   "mimetype": "text/x-python",
   "name": "python",
   "nbconvert_exporter": "python",
   "pygments_lexer": "ipython3",
   "version": "3.11.11"
  }
 },
 "nbformat": 4,
 "nbformat_minor": 5
}
